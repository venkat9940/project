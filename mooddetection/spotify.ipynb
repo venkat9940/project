{
  "nbformat": 4,
  "nbformat_minor": 0,
  "metadata": {
    "colab": {
      "provenance": []
    },
    "kernelspec": {
      "name": "python3",
      "display_name": "Python 3"
    },
    "language_info": {
      "name": "python"
    }
  },
  "cells": [
    {
      "cell_type": "code",
      "source": [
        "pip install spotipy"
      ],
      "metadata": {
        "colab": {
          "base_uri": "https://localhost:8080/"
        },
        "id": "6ucDl4aF7oDh",
        "outputId": "b1eef1d6-1851-4abe-b062-38fe61a34246"
      },
      "execution_count": null,
      "outputs": [
        {
          "output_type": "stream",
          "name": "stdout",
          "text": [
            "Collecting spotipy\n",
            "  Downloading spotipy-2.23.0-py3-none-any.whl (29 kB)\n",
            "Collecting redis>=3.5.3 (from spotipy)\n",
            "  Downloading redis-5.0.1-py3-none-any.whl (250 kB)\n",
            "\u001b[2K     \u001b[90m━━━━━━━━━━━━━━━━━━━━━━━━━━━━━━━━━━━━━━━━\u001b[0m \u001b[32m250.3/250.3 kB\u001b[0m \u001b[31m6.7 MB/s\u001b[0m eta \u001b[36m0:00:00\u001b[0m\n",
            "\u001b[?25hRequirement already satisfied: requests>=2.25.0 in /usr/local/lib/python3.10/dist-packages (from spotipy) (2.31.0)\n",
            "Requirement already satisfied: six>=1.15.0 in /usr/local/lib/python3.10/dist-packages (from spotipy) (1.16.0)\n",
            "Requirement already satisfied: urllib3>=1.26.0 in /usr/local/lib/python3.10/dist-packages (from spotipy) (2.0.7)\n",
            "Requirement already satisfied: async-timeout>=4.0.2 in /usr/local/lib/python3.10/dist-packages (from redis>=3.5.3->spotipy) (4.0.3)\n",
            "Requirement already satisfied: charset-normalizer<4,>=2 in /usr/local/lib/python3.10/dist-packages (from requests>=2.25.0->spotipy) (3.3.2)\n",
            "Requirement already satisfied: idna<4,>=2.5 in /usr/local/lib/python3.10/dist-packages (from requests>=2.25.0->spotipy) (3.6)\n",
            "Requirement already satisfied: certifi>=2017.4.17 in /usr/local/lib/python3.10/dist-packages (from requests>=2.25.0->spotipy) (2023.11.17)\n",
            "Installing collected packages: redis, spotipy\n",
            "Successfully installed redis-5.0.1 spotipy-2.23.0\n"
          ]
        }
      ]
    },
    {
      "cell_type": "code",
      "source": [
        "import os\n",
        "import spotipy\n",
        "from spotipy.oauth2 import SpotifyClientCredentials\n",
        "import pandas as pd\n",
        "import time\n",
        "\n",
        "# Spotify API credentials\n",
        "auth_manager = SpotifyClientCredentials(client_id='909976f782294fed835ea8efe92ccb69', client_secret='d9dfafafd8c24a02a90a6b72f9c3404b')\n",
        "sp = spotipy.Spotify(auth_manager=auth_manager)\n",
        "\n",
        "# Function to get track IDs from a playlist\n",
        "def getTrackIDs(user, playlist_id):\n",
        "    track_ids = []\n",
        "    playlist = sp.user_playlist(user, playlist_id)\n",
        "    for item in playlist['tracks']['items']:\n",
        "        track = item['track']\n",
        "        track_ids.append(track['id'])\n",
        "    return track_ids\n",
        "\n",
        "# Function to get track features\n",
        "def getTrackFeatures(id):\n",
        "    track_info = sp.track(id)\n",
        "    name = track_info['name']\n",
        "    album = track_info['album']['name']\n",
        "    artist = track_info['album']['artists'][0]['name']\n",
        "    track_data = [name, album, artist]\n",
        "    return track_data\n",
        "\n",
        "# Emotion dictionary and playlist IDs\n",
        "emotion_dict = {0: \"Angry\", 1: \"Disgusted\", 2: \"Fearful\", 3: \"Happy\", 4: \"Neutral\", 5: \"Sad\", 6: \"Surprised\"}\n",
        "music_dist = {\n",
        "    0: \"0l9dAmBrUJLylii66JOsHB\",\n",
        "    1: \"1n6cpWo9ant4WguEo91KZh\",\n",
        "    2: \"4cllEPvFdoX6NIVWPKai9I\",\n",
        "    3: \"0deORnapZgrxFY4nsKr9JA\",\n",
        "    4: \"4kvSlabrnfRCQWfN0MgtgA\",\n",
        "    5: \"1n6cpWo9ant4WguEo91KZh\",\n",
        "    6: \"37i9dQZEVXbMDoHDwVN2tF\"\n",
        "}\n",
        "\n",
        "# Function to fetch and save playlists for each emotion\n",
        "def fetch_and_save_playlist(emotion_index, playlist_id, emotion_dict):\n",
        "    track_ids = getTrackIDs('spotify', playlist_id)\n",
        "    track_list = []\n",
        "\n",
        "    for i in range(len(track_ids)):\n",
        "        time.sleep(.3)\n",
        "        track_data = getTrackFeatures(track_ids[i])\n",
        "        track_list.append(track_data)\n",
        "\n",
        "    emotion = emotion_dict[emotion_index]\n",
        "    directory = '/content/songs'  # Define the directory where files will be saved\n",
        "\n",
        "    # Create the directory if it doesn't exist\n",
        "    if not os.path.exists(directory):\n",
        "        os.makedirs(directory)\n",
        "\n",
        "    # Save the file within the directory with separate filenames for each emotion\n",
        "    df = pd.DataFrame(track_list, columns=['Name', 'Album', 'Artist'])\n",
        "    df.to_csv(f'{directory}/{emotion.lower()}.csv', index=False)  # Using index=False to exclude index column\n",
        "    print(f\"CSV for {emotion} Generated\")\n",
        "\n",
        "# Fetch and save playlists for each emotion\n",
        "for index, playlist_id in music_dist.items():\n",
        "    fetch_and_save_playlist(index, playlist_id, emotion_dict)\n"
      ],
      "metadata": {
        "colab": {
          "base_uri": "https://localhost:8080/"
        },
        "id": "mqzOM7XeC6kM",
        "outputId": "13ea2ac8-91d6-426c-8814-c358c662780b"
      },
      "execution_count": null,
      "outputs": [
        {
          "output_type": "stream",
          "name": "stdout",
          "text": [
            "CSV for Angry Generated\n",
            "CSV for Disgusted Generated\n",
            "CSV for Fearful Generated\n",
            "CSV for Happy Generated\n",
            "CSV for Neutral Generated\n",
            "CSV for Sad Generated\n",
            "CSV for Surprised Generated\n"
          ]
        }
      ]
    }
  ]
}